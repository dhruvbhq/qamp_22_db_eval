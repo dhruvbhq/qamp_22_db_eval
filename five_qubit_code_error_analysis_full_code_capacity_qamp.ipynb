{
 "cells": [
  {
   "cell_type": "code",
   "execution_count": 1,
   "id": "762257db",
   "metadata": {},
   "outputs": [],
   "source": [
    "import qiskit\n",
    "import numpy as np\n",
    "from qiskit import ClassicalRegister, QuantumRegister, QuantumCircuit, Aer, execute, IBMQ\n",
    "from qiskit.quantum_info import partial_trace, state_fidelity, Statevector, Pauli, PauliList\n",
    "from qiskit.opflow import I, X, Y, Z, PauliOp\n",
    "\n",
    "import matplotlib.pyplot as plt"
   ]
  },
  {
   "cell_type": "code",
   "execution_count": 2,
   "id": "814129ca",
   "metadata": {},
   "outputs": [
    {
     "data": {
      "text/plain": [
       "{'qiskit-terra': '0.21.1', 'qiskit-aer': '0.10.4', 'qiskit-ignis': None, 'qiskit-ibmq-provider': '0.19.2', 'qiskit': '0.37.1', 'qiskit-nature': None, 'qiskit-finance': None, 'qiskit-optimization': None, 'qiskit-machine-learning': None}"
      ]
     },
     "execution_count": 2,
     "metadata": {},
     "output_type": "execute_result"
    }
   ],
   "source": [
    "qiskit.__qiskit_version__"
   ]
  },
  {
   "cell_type": "markdown",
   "id": "2738ed68",
   "metadata": {},
   "source": [
    "### Program to perform error analysis of [5,1,3] code. This program will calculate the theoretically expected asymptotic scaling of logical error rate with physical error rate, by computing which error patterns along with the naive correction leads to a non-trivial operation on the codespace, i.e. a logical error."
   ]
  },
  {
   "cell_type": "markdown",
   "id": "9474b70e",
   "metadata": {},
   "source": [
    "#### Generate all full code capacity errors (Pauli X/Y/Z on the 5 data qubits with probability p/3, no error with probability (1-p), i.i.d.)"
   ]
  },
  {
   "cell_type": "code",
   "execution_count": 3,
   "id": "b250345f",
   "metadata": {},
   "outputs": [
    {
     "name": "stdout",
     "output_type": "stream",
     "text": [
      "['IIIII', 'IIIIX', 'IIIIY', 'IIIIZ', 'IIIXI', 'IIIXX', 'IIIXY', 'IIIXZ', 'IIIYI', 'IIIYX']\n"
     ]
    }
   ],
   "source": [
    "errors_1_qubit = ['I','X','Y','Z']\n",
    "\n",
    "errors_5_qubit = []\n",
    "\n",
    "for e1 in errors_1_qubit:\n",
    "    for e2 in errors_1_qubit:\n",
    "        for e3 in errors_1_qubit:\n",
    "            for e4 in errors_1_qubit:\n",
    "                for e5 in errors_1_qubit:\n",
    "                    errors_5_qubit.append(e1+e2+e3+e4+e5)\n",
    "\n",
    "print(errors_5_qubit[0:10])"
   ]
  },
  {
   "cell_type": "markdown",
   "id": "72b48139",
   "metadata": {},
   "source": [
    "#### Write all stabilizer generators"
   ]
  },
  {
   "cell_type": "code",
   "execution_count": 4,
   "id": "5f66a868",
   "metadata": {},
   "outputs": [],
   "source": [
    "stab_gens = ['XZZXI', 'IXZZX', 'XIXZZ', 'ZXIXZ']"
   ]
  },
  {
   "cell_type": "markdown",
   "id": "610430c6",
   "metadata": {},
   "source": [
    "#### Check which error strings anti commute with which stabilizer generators and apply \"corrections\" based on syndrome naively. This would lead to the overall operation experienced by data qubits under every error and the \"corrections\"."
   ]
  },
  {
   "cell_type": "code",
   "execution_count": 5,
   "id": "7acb9a4b",
   "metadata": {},
   "outputs": [
    {
     "name": "stdout",
     "output_type": "stream",
     "text": [
      "['0000', '0011', '0111', '0100', '0110', '0101', '0001', '0010', '1111', '1100', '1000', '1011', '1001', '1010', '1110', '1101', '1100', '1111', '1011', '1000', '1010', '1001', '1101', '1110', '0011', '0000', '0100', '0111', '0101', '0110', '0010', '0001', '1110', '1101', '1001', '1010', '1000', '1011', '1111', '1100', '0001', '0010', '0110', '0101', '0111', '0100', '0000', '0011', '0010', '0001', '0101', '0110', '0100', '0111', '0011', '0000', '1101', '1110', '1010', '1001', '1011', '1000', '1100', '1111', '1000', '1011', '1111', '1100', '1110', '1101', '1001', '1010', '0111', '0100', '0000', '0011', '0001', '0010', '0110', '0101', '0100', '0111', '0011', '0000', '0010', '0001', '0101', '0110', '1011', '1000', '1100', '1111', '1101', '1110', '1010', '1001', '0110', '0101', '0001', '0010', '0000', '0011', '0111', '0100', '1001', '1010', '1110', '1101', '1111', '1100', '1000', '1011', '1010', '1001', '1101', '1110', '1100', '1111', '1011', '1000', '0101', '0110', '0010', '0001', '0011', '0000', '0100', '0111', '1101', '1110', '1010', '1001', '1011', '1000', '1100', '1111', '0010', '0001', '0101', '0110', '0100', '0111', '0011', '0000', '0001', '0010', '0110', '0101', '0111', '0100', '0000', '0011', '1110', '1101', '1001', '1010', '1000', '1011', '1111', '1100', '0011', '0000', '0100', '0111', '0101', '0110', '0010', '0001', '1100', '1111', '1011', '1000', '1010', '1001', '1101', '1110', '1111', '1100', '1000', '1011', '1001', '1010', '1110', '1101', '0000', '0011', '0111', '0100', '0110', '0101', '0001', '0010', '0101', '0110', '0010', '0001', '0011', '0000', '0100', '0111', '1010', '1001', '1101', '1110', '1100', '1111', '1011', '1000', '1001', '1010', '1110', '1101', '1111', '1100', '1000', '1011', '0110', '0101', '0001', '0010', '0000', '0011', '0111', '0100', '1011', '1000', '1100', '1111', '1101', '1110', '1010', '1001', '0100', '0111', '0011', '0000', '0010', '0001', '0101', '0110', '0111', '0100', '0000', '0011', '0001', '0010', '0110', '0101', '1000', '1011', '1111', '1100', '1110', '1101', '1001', '1010', '0001', '0010', '0110', '0101', '0111', '0100', '0000', '0011', '1110', '1101', '1001', '1010', '1000', '1011', '1111', '1100', '1101', '1110', '1010', '1001', '1011', '1000', '1100', '1111', '0010', '0001', '0101', '0110', '0100', '0111', '0011', '0000', '1111', '1100', '1000', '1011', '1001', '1010', '1110', '1101', '0000', '0011', '0111', '0100', '0110', '0101', '0001', '0010', '0011', '0000', '0100', '0111', '0101', '0110', '0010', '0001', '1100', '1111', '1011', '1000', '1010', '1001', '1101', '1110', '1001', '1010', '1110', '1101', '1111', '1100', '1000', '1011', '0110', '0101', '0001', '0010', '0000', '0011', '0111', '0100', '0101', '0110', '0010', '0001', '0011', '0000', '0100', '0111', '1010', '1001', '1101', '1110', '1100', '1111', '1011', '1000', '0111', '0100', '0000', '0011', '0001', '0010', '0110', '0101', '1000', '1011', '1111', '1100', '1110', '1101', '1001', '1010', '1011', '1000', '1100', '1111', '1101', '1110', '1010', '1001', '0100', '0111', '0011', '0000', '0010', '0001', '0101', '0110', '1100', '1111', '1011', '1000', '1010', '1001', '1101', '1110', '0011', '0000', '0100', '0111', '0101', '0110', '0010', '0001', '0000', '0011', '0111', '0100', '0110', '0101', '0001', '0010', '1111', '1100', '1000', '1011', '1001', '1010', '1110', '1101', '0010', '0001', '0101', '0110', '0100', '0111', '0011', '0000', '1101', '1110', '1010', '1001', '1011', '1000', '1100', '1111', '1110', '1101', '1001', '1010', '1000', '1011', '1111', '1100', '0001', '0010', '0110', '0101', '0111', '0100', '0000', '0011', '0100', '0111', '0011', '0000', '0010', '0001', '0101', '0110', '1011', '1000', '1100', '1111', '1101', '1110', '1010', '1001', '1000', '1011', '1111', '1100', '1110', '1101', '1001', '1010', '0111', '0100', '0000', '0011', '0001', '0010', '0110', '0101', '1010', '1001', '1101', '1110', '1100', '1111', '1011', '1000', '0101', '0110', '0010', '0001', '0011', '0000', '0100', '0111', '0110', '0101', '0001', '0010', '0000', '0011', '0111', '0100', '1001', '1010', '1110', '1101', '1111', '1100', '1000', '1011', '1011', '1000', '1100', '1111', '1101', '1110', '1010', '1001', '0100', '0111', '0011', '0000', '0010', '0001', '0101', '0110', '0111', '0100', '0000', '0011', '0001', '0010', '0110', '0101', '1000', '1011', '1111', '1100', '1110', '1101', '1001', '1010', '0101', '0110', '0010', '0001', '0011', '0000', '0100', '0111', '1010', '1001', '1101', '1110', '1100', '1111', '1011', '1000', '1001', '1010', '1110', '1101', '1111', '1100', '1000', '1011', '0110', '0101', '0001', '0010', '0000', '0011', '0111', '0100', '0011', '0000', '0100', '0111', '0101', '0110', '0010', '0001', '1100', '1111', '1011', '1000', '1010', '1001', '1101', '1110', '1111', '1100', '1000', '1011', '1001', '1010', '1110', '1101', '0000', '0011', '0111', '0100', '0110', '0101', '0001', '0010', '1101', '1110', '1010', '1001', '1011', '1000', '1100', '1111', '0010', '0001', '0101', '0110', '0100', '0111', '0011', '0000', '0001', '0010', '0110', '0101', '0111', '0100', '0000', '0011', '1110', '1101', '1001', '1010', '1000', '1011', '1111', '1100', '0110', '0101', '0001', '0010', '0000', '0011', '0111', '0100', '1001', '1010', '1110', '1101', '1111', '1100', '1000', '1011', '1010', '1001', '1101', '1110', '1100', '1111', '1011', '1000', '0101', '0110', '0010', '0001', '0011', '0000', '0100', '0111', '1000', '1011', '1111', '1100', '1110', '1101', '1001', '1010', '0111', '0100', '0000', '0011', '0001', '0010', '0110', '0101', '0100', '0111', '0011', '0000', '0010', '0001', '0101', '0110', '1011', '1000', '1100', '1111', '1101', '1110', '1010', '1001', '1110', '1101', '1001', '1010', '1000', '1011', '1111', '1100', '0001', '0010', '0110', '0101', '0111', '0100', '0000', '0011', '0010', '0001', '0101', '0110', '0100', '0111', '0011', '0000', '1101', '1110', '1010', '1001', '1011', '1000', '1100', '1111', '0000', '0011', '0111', '0100', '0110', '0101', '0001', '0010', '1111', '1100', '1000', '1011', '1001', '1010', '1110', '1101', '1100', '1111', '1011', '1000', '1010', '1001', '1101', '1110', '0011', '0000', '0100', '0111', '0101', '0110', '0010', '0001', '1010', '1001', '1101', '1110', '1100', '1111', '1011', '1000', '0101', '0110', '0010', '0001', '0011', '0000', '0100', '0111', '0110', '0101', '0001', '0010', '0000', '0011', '0111', '0100', '1001', '1010', '1110', '1101', '1111', '1100', '1000', '1011', '0100', '0111', '0011', '0000', '0010', '0001', '0101', '0110', '1011', '1000', '1100', '1111', '1101', '1110', '1010', '1001', '1000', '1011', '1111', '1100', '1110', '1101', '1001', '1010', '0111', '0100', '0000', '0011', '0001', '0010', '0110', '0101', '0010', '0001', '0101', '0110', '0100', '0111', '0011', '0000', '1101', '1110', '1010', '1001', '1011', '1000', '1100', '1111', '1110', '1101', '1001', '1010', '1000', '1011', '1111', '1100', '0001', '0010', '0110', '0101', '0111', '0100', '0000', '0011', '1100', '1111', '1011', '1000', '1010', '1001', '1101', '1110', '0011', '0000', '0100', '0111', '0101', '0110', '0010', '0001', '0000', '0011', '0111', '0100', '0110', '0101', '0001', '0010', '1111', '1100', '1000', '1011', '1001', '1010', '1110', '1101', '0111', '0100', '0000', '0011', '0001', '0010', '0110', '0101', '1000', '1011', '1111', '1100', '1110', '1101', '1001', '1010', '1011', '1000', '1100', '1111', '1101', '1110', '1010', '1001', '0100', '0111', '0011', '0000', '0010', '0001', '0101', '0110', '1001', '1010', '1110', '1101', '1111', '1100', '1000', '1011', '0110', '0101', '0001', '0010', '0000', '0011', '0111', '0100', '0101', '0110', '0010', '0001', '0011', '0000', '0100', '0111', '1010', '1001', '1101', '1110', '1100', '1111', '1011', '1000', '1111', '1100', '1000', '1011', '1001', '1010', '1110', '1101', '0000', '0011', '0111', '0100', '0110', '0101', '0001', '0010', '0011', '0000', '0100', '0111', '0101', '0110', '0010', '0001', '1100', '1111', '1011', '1000', '1010', '1001', '1101', '1110', '0001', '0010', '0110', '0101', '0111', '0100', '0000', '0011', '1110', '1101', '1001', '1010', '1000', '1011', '1111', '1100', '1101', '1110', '1010', '1001', '1011', '1000', '1100', '1111', '0010', '0001', '0101', '0110', '0100', '0111', '0011', '0000']\n"
     ]
    }
   ],
   "source": [
    "error_strings_commutation = []\n",
    "\n",
    "for e in errors_5_qubit:\n",
    "    ec = ''\n",
    "    for i in range(len(stab_gens)):\n",
    "        if(Pauli(e).commutes(Pauli(stab_gens[i]))):\n",
    "            ec += '0'\n",
    "        elif(Pauli(e).anticommutes(Pauli(stab_gens[i]))):\n",
    "            ec += '1'\n",
    "    error_strings_commutation.append(ec)\n",
    "print(error_strings_commutation)"
   ]
  },
  {
   "cell_type": "code",
   "execution_count": 6,
   "id": "cf86e54f",
   "metadata": {},
   "outputs": [
    {
     "name": "stdout",
     "output_type": "stream",
     "text": [
      "[Pauli('IIIII'), Pauli('IIIII'), Pauli('IIIII'), Pauli('IIIII'), Pauli('IIIII'), Pauli('IZIXX'), Pauli('XIIXY'), Pauli('IIZXZ'), Pauli('IIIII'), Pauli('IIXYX'), Pauli('IXIYY'), Pauli('YIIYZ'), Pauli('IIIII'), Pauli('ZIIZX'), Pauli('IIYZY'), Pauli('IYIZZ'), Pauli('IIIII'), Pauli('IIXYX'), Pauli('YIXIY'), Pauli('IXXIZ'), Pauli('ZIXXI'), Pauli('iIIXYX'), Pauli('IYXXY'), Pauli('-iIIZXZ'), Pauli('IIXYX'), Pauli('IIXYX'), Pauli('-iIIXYX'), Pauli('iIIXYX'), Pauli('IZXZI'), Pauli('-iIIXYX'), Pauli('iIIYZY'), Pauli('XIXZZ'), Pauli('IIIII'), Pauli('IYYIX'), Pauli('IIYZY'), Pauli('ZIYIZ'), Pauli('IXYXI'), Pauli('YIYXX'), Pauli('-iIIYZY'), Pauli('iIIZXZ'), Pauli('XIYYI'), Pauli('-iIIXYX'), Pauli('iIIYZY'), Pauli('IZYYZ'), Pauli('IIYZY'), Pauli('iIIYZY'), Pauli('IIYZY'), Pauli('-iIIYZY'), Pauli('IIIII'), Pauli('XIZIX'), Pauli('IZZIY'), Pauli('IIZXZ'), Pauli('IIZXZ'), Pauli('-iIIZXZ'), Pauli('iIIZXZ'), Pauli('IIZXZ'), Pauli('IYZYI'), Pauli('iIIXYX'), Pauli('ZIZYY'), Pauli('-iIIZXZ'), Pauli('YIZZI'), Pauli('IXZZX'), Pauli('-iIIYZY'), Pauli('iIIZXZ'), Pauli('IIIII'), Pauli('YXIIX'), Pauli('IXIYY'), Pauli('IXXIZ'), Pauli('IXYXI'), Pauli('-iIZIXX'), Pauli('iIXIYY'), Pauli('ZXIXZ'), Pauli('IXIYY'), Pauli('iIXIYY'), Pauli('IXIYY'), Pauli('-iIXIYY'), Pauli('XXIZI'), Pauli('IXZZX'), Pauli('-iIXIYY'), Pauli('iIYIZZ'), Pauli('IXXIZ'), Pauli('-iIXXIZ'), Pauli('iIXXIZ'), Pauli('IXXIZ'), Pauli('iIXYXI'), Pauli('XXXXX'), Pauli('iIYXXY'), Pauli('IXXIZ'), Pauli('YXXYI'), Pauli('IIXYX'), Pauli('IXIYY'), Pauli('IXXIZ'), Pauli('-iIZXZI'), Pauli('-iIXZZX'), Pauli('ZXXZY'), Pauli('IXXIZ'), Pauli('IXYXI'), Pauli('iIYYIX'), Pauli('XXYIY'), Pauli('-iIXXIZ'), Pauli('IXYXI'), Pauli('IXYXI'), Pauli('IXYXI'), Pauli('IXYXI'), Pauli('-iIXYXI'), Pauli('ZXYYX'), Pauli('IXIYY'), Pauli('-iIZYYZ'), Pauli('iIXYXI'), Pauli('iIXZZX'), Pauli('IIYZY'), Pauli('YXYZZ'), Pauli('ZXZII'), Pauli('IXZZX'), Pauli('-iIZZIY'), Pauli('iIXXIZ'), Pauli('-iIXYXI'), Pauli('-iIXZZX'), Pauli('YXZXY'), Pauli('IIZXZ'), Pauli('iIYZYI'), Pauli('iIXZZX'), Pauli('IXIYY'), Pauli('XXZYZ'), Pauli('IXZZX'), Pauli('IXZZX'), Pauli('-iIXZZX'), Pauli('iIXZZX'), Pauli('IIIII'), Pauli('IYYIX'), Pauli('ZYIIY'), Pauli('IYIZZ'), Pauli('YYIXI'), Pauli('iIZIXX'), Pauli('IYXXY'), Pauli('-iIYIZZ'), Pauli('IYZYI'), Pauli('XYIYX'), Pauli('-iIXIYY'), Pauli('iIYIZZ'), Pauli('IYIZZ'), Pauli('-iIYIZZ'), Pauli('iIYIZZ'), Pauli('IYIZZ'), Pauli('XYXII'), Pauli('iIYYIX'), Pauli('IYXXY'), Pauli('-iIXXIZ'), Pauli('IYXXY'), Pauli('iIYXXY'), Pauli('IYXXY'), Pauli('-iIYXXY'), Pauli('-iIYZYI'), Pauli('IIXYX'), Pauli('-iIYXXY'), Pauli('ZYXYZ'), Pauli('iIZXZI'), Pauli('YYXZX'), Pauli('iIYXXY'), Pauli('IYIZZ'), Pauli('IYYIX'), Pauli('IYYIX'), Pauli('-iIYYIX'), Pauli('iIYYIX'), Pauli('-iIXYXI'), Pauli('IYYIX'), Pauli('-iIYXXY'), Pauli('XYYXZ'), Pauli('iIYZYI'), Pauli('IYYIX'), Pauli('YYYYY'), Pauli('iIZYYZ'), Pauli('ZYYZI'), Pauli('IYYIX'), Pauli('IIYZY'), Pauli('IYIZZ'), Pauli('IYZYI'), Pauli('-iIYYIX'), Pauli('iIZZIY'), Pauli('YYZIZ'), Pauli('iIYZYI'), Pauli('ZYZXX'), Pauli('iIYXXY'), Pauli('IIZXZ'), Pauli('IYZYI'), Pauli('IYZYI'), Pauli('IYZYI'), Pauli('IYZYI'), Pauli('-iIYZYI'), Pauli('-iIXZZX'), Pauli('XYZZY'), Pauli('IYIZZ'), Pauli('IIIII'), Pauli('IZIXX'), Pauli('IZZIY'), Pauli('XZIIZ'), Pauli('IZIXX'), Pauli('IZIXX'), Pauli('-iIZIXX'), Pauli('iIZIXX'), Pauli('ZZIYI'), Pauli('-iIZIXX'), Pauli('iIXIYY'), Pauli('IZYYZ'), Pauli('IZXZI'), Pauli('iIZIXX'), Pauli('YZIZY'), Pauli('-iIYIZZ'), Pauli('IZXZI'), Pauli('ZZXIX'), Pauli('-iIZZIY'), Pauli('iIXXIZ'), Pauli('-iIZXZI'), Pauli('IZIXX'), Pauli('-iIYXXY'), Pauli('YZXXZ'), Pauli('iIZXZI'), Pauli('IIXYX'), Pauli('XZXYY'), Pauli('iIZYYZ'), Pauli('IZXZI'), Pauli('IZXZI'), Pauli('IZXZI'), Pauli('IZXZI'), Pauli('YZYII'), Pauli('-iIYYIX'), Pauli('iIZZIY'), Pauli('IZYYZ'), Pauli('iIXYXI'), Pauli('IZIXX'), Pauli('ZZYXY'), Pauli('iIZYYZ'), Pauli('IZYYZ'), Pauli('-iIZYYZ'), Pauli('iIZYYZ'), Pauli('IZYYZ'), Pauli('-iIZXZI'), Pauli('XZYZX'), Pauli('IIYZY'), Pauli('-iIZYYZ'), Pauli('IZZIY'), Pauli('iIZZIY'), Pauli('IZZIY'), Pauli('-iIZZIY'), Pauli('XZZXI'), Pauli('IZIXX'), Pauli('IZZIY'), Pauli('IIZXZ'), Pauli('-iIYZYI'), Pauli('YZZYX'), Pauli('IZZIY'), Pauli('-iIZYYZ'), Pauli('iIZXZI'), Pauli('iIXZZX'), Pauli('IZZIY'), Pauli('ZZZZZ'), Pauli('IIIII'), Pauli('XIZIX'), Pauli('XIIXY'), Pauli('XZIIZ'), Pauli('XIIXY'), Pauli('iXIIXY'), Pauli('XIIXY'), Pauli('-iXIIXY'), Pauli('XIYYI'), Pauli('XYIYX'), Pauli('-iXIIXY'), Pauli('iYIIYZ'), Pauli('XXIZI'), Pauli('-iZIIZX'), Pauli('iXIIXY'), Pauli('XIXZZ'), Pauli('XYXII'), Pauli('-iXIZIX'), Pauli('iYIXIY'), Pauli('XIXZZ'), Pauli('-iZIXXI'), Pauli('XXXXX'), Pauli('XIIXY'), Pauli('-iXIXZZ'), Pauli('iXIYYI'), Pauli('IIXYX'), Pauli('XZXYY'), Pauli('iXIXZZ'), Pauli('XIXZZ'), Pauli('-iXIXZZ'), Pauli('iXIXZZ'), Pauli('XIXZZ'), Pauli('XIYYI'), Pauli('iXIZIX'), Pauli('XXYIY'), Pauli('-iZIYIZ'), Pauli('iXIYYI'), Pauli('iYIYXX'), Pauli('XIIXY'), Pauli('XYYXZ'), Pauli('XIYYI'), Pauli('XIYYI'), Pauli('XIYYI'), Pauli('XIYYI'), Pauli('-iXIYYI'), Pauli('XZYZX'), Pauli('IIYZY'), Pauli('-iXIXZZ'), Pauli('XIZIX'), Pauli('XIZIX'), Pauli('-iXIZIX'), Pauli('iXIZIX'), Pauli('XZZXI'), Pauli('XIZIX'), Pauli('XIIXY'), Pauli('IIZXZ'), Pauli('-iXIYYI'), Pauli('XIZIX'), Pauli('-iZIZYY'), Pauli('XXZYZ'), Pauli('iYIZZI'), Pauli('XIZIX'), Pauli('XYZZY'), Pauli('iXIXZZ'), Pauli('XXIZI'), Pauli('iYXIIX'), Pauli('XXYIY'), Pauli('-iXZIIZ'), Pauli('-iXXIZI'), Pauli('XXXXX'), Pauli('XIIXY'), Pauli('-iZXIXZ'), Pauli('iXXIZI'), Pauli('iXYIYX'), Pauli('IXIYY'), Pauli('XXZYZ'), Pauli('XXIZI'), Pauli('XXIZI'), Pauli('XXIZI'), Pauli('XXIZI'), Pauli('iXYXII'), Pauli('XXXXX'), Pauli('iXXYIY'), Pauli('IXXIZ'), Pauli('XXXXX'), Pauli('XXXXX'), Pauli('-iXXXXX'), Pauli('iXXXXX'), Pauli('iYXXYI'), Pauli('-iXXXXX'), Pauli('-iXZXYY'), Pauli('-iXXZYZ'), Pauli('XXIZI'), Pauli('iXXXXX'), Pauli('-iZXXZY'), Pauli('XIXZZ'), Pauli('XXYIY'), Pauli('iXXYIY'), Pauli('XXYIY'), Pauli('-iXXYIY'), Pauli('IXYXI'), Pauli('-iXXXXX'), Pauli('XXYIY'), Pauli('iXYYXZ'), Pauli('XIYYI'), Pauli('-iZXYYX'), Pauli('XXYIY'), Pauli('iXXZYZ'), Pauli('XXIZI'), Pauli('-iXZYZX'), Pauli('XXYIY'), Pauli('iYXYZZ'), Pauli('-iZXZII'), Pauli('XIZIX'), Pauli('-iXXYIY'), Pauli('XXZYZ'), Pauli('-iXZZXI'), Pauli('iXXXXX'), Pauli('iYXZXY'), Pauli('iXXZYZ'), Pauli('XXZYZ'), Pauli('-iXXZYZ'), Pauli('iXXZYZ'), Pauli('XXZYZ'), Pauli('XXIZI'), Pauli('IXZZX'), Pauli('iXYZZY'), Pauli('-iXXZYZ'), Pauli('XYXII'), Pauli('XYIYX'), Pauli('-iZYIIY'), Pauli('iXZIIZ'), Pauli('iYYIXI'), Pauli('iXYIYX'), Pauli('XIIXY'), Pauli('XYYXZ'), Pauli('XYIYX'), Pauli('XYIYX'), Pauli('-iXYIYX'), Pauli('iXYIYX'), Pauli('-iXXIZI'), Pauli('-iXYIYX'), Pauli('XYZZY'), Pauli('IYIZZ'), Pauli('XYXII'), Pauli('XYXII'), Pauli('XYXII'), Pauli('XYXII'), Pauli('XYXII'), Pauli('-iXXXXX'), Pauli('IYXXY'), Pauli('iXYYXZ'), Pauli('XYXII'), Pauli('XYIYX'), Pauli('iXZXYY'), Pauli('-iZYXYZ'), Pauli('XYXII'), Pauli('iYYXZX'), Pauli('-iXYZZY'), Pauli('XIXZZ'), Pauli('-iXYXII'), Pauli('IYYIX'), Pauli('-iXXYIY'), Pauli('XYYXZ'), Pauli('XYYXZ'), Pauli('-iXYYXZ'), Pauli('iXYYXZ'), Pauli('XYYXZ'), Pauli('XIYYI'), Pauli('XYIYX'), Pauli('iYYYYY'), Pauli('-iXYYXZ'), Pauli('-iZYYZI'), Pauli('iXZYZX'), Pauli('iXYZZY'), Pauli('iXYYXZ'), Pauli('iXYXII'), Pauli('XIZIX'), Pauli('XYZZY'), Pauli('iYYZIZ'), Pauli('iXZZXI'), Pauli('-iZYZXX'), Pauli('-iXYZZY'), Pauli('-iXYYXZ'), Pauli('IYZYI'), Pauli('XYIYX'), Pauli('iXYZZY'), Pauli('-iXXZYZ'), Pauli('XYZZY'), Pauli('iXYZZY'), Pauli('XYZZY'), Pauli('-iXYZZY'), Pauli('XZIIZ'), Pauli('-iXZIIZ'), Pauli('iXZIIZ'), Pauli('XZIIZ'), Pauli('XZZXI'), Pauli('IZIXX'), Pauli('XIIXY'), Pauli('XZIIZ'), Pauli('-iZZIYI'), Pauli('-iXYIYX'), Pauli('XZXYY'), Pauli('XZIIZ'), Pauli('iXXIZI'), Pauli('XZYZX'), Pauli('iYZIZY'), Pauli('XZIIZ'), Pauli('-iXYXII'), Pauli('-iZZXIX'), Pauli('XZXYY'), Pauli('XZIIZ'), Pauli('-iXZZXI'), Pauli('iXXXXX'), Pauli('iXZXYY'), Pauli('iYZXXZ'), Pauli('XZXYY'), Pauli('iXZXYY'), Pauli('XZXYY'), Pauli('-iXZXYY'), Pauli('IZXZI'), Pauli('iXZYZX'), Pauli('-iXZXYY'), Pauli('XIXZZ'), Pauli('iYZYII'), Pauli('XZYZX'), Pauli('iXXYIY'), Pauli('XZIIZ'), Pauli('iXZZXI'), Pauli('-iXZYZX'), Pauli('-iZZYXY'), Pauli('-iXYYXZ'), Pauli('XIYYI'), Pauli('iXZYZX'), Pauli('-iXZXYY'), Pauli('IZYYZ'), Pauli('XZYZX'), Pauli('XZYZX'), Pauli('-iXZYZX'), Pauli('iXZYZX'), Pauli('XZZXI'), Pauli('XIZIX'), Pauli('IZZIY'), Pauli('XZIIZ'), Pauli('XZZXI'), Pauli('XZZXI'), Pauli('XZZXI'), Pauli('XZZXI'), Pauli('-iXZZXI'), Pauli('iYZZYX'), Pauli('iXZXYY'), Pauli('iXXZYZ'), Pauli('iXZZXI'), Pauli('-iXZYZX'), Pauli('-iXYZZY'), Pauli('-iZZZZZ'), Pauli('IIIII'), Pauli('YXIIX'), Pauli('YIXIY'), Pauli('YIIYZ'), Pauli('YYIXI'), Pauli('YIYXX'), Pauli('-iXIIXY'), Pauli('iYIIYZ'), Pauli('YIIYZ'), Pauli('-iYIIYZ'), Pauli('iYIIYZ'), Pauli('YIIYZ'), Pauli('YIZZI'), Pauli('iZIIZX'), Pauli('YZIZY'), Pauli('-iYIIYZ'), Pauli('YIXIY'), Pauli('iYIXIY'), Pauli('YIXIY'), Pauli('-iYIXIY'), Pauli('iZIXXI'), Pauli('iYIYXX'), Pauli('YIXIY'), Pauli('YZXXZ'), Pauli('YXXYI'), Pauli('IIXYX'), Pauli('YIXIY'), Pauli('YIIYZ'), Pauli('-iYIZZI'), Pauli('YYXZX'), Pauli('YIXIY'), Pauli('-iXIXZZ'), Pauli('YZYII'), Pauli('YIYXX'), Pauli('-iYIXIY'), Pauli('iZIYIZ'), Pauli('YIYXX'), Pauli('YIYXX'), Pauli('-iYIYXX'), Pauli('iYIYXX'), Pauli('-iXIYYI'), Pauli('-iYIYXX'), Pauli('YYYYY'), Pauli('YIIYZ'), Pauli('iYIZZI'), Pauli('iYIYXX'), Pauli('IIYZY'), Pauli('YXYZZ'), Pauli('YIZZI'), Pauli('-iXIZIX'), Pauli('iYIXIY'), Pauli('YYZIZ'), Pauli('-iYIZZI'), Pauli('-iYIYXX'), Pauli('YXZXY'), Pauli('IIZXZ'), Pauli('iYIZZI'), Pauli('YZZYX'), Pauli('iZIZYY'), Pauli('YIIYZ'), Pauli('YIZZI'), Pauli('YIZZI'), Pauli('YIZZI'), Pauli('YIZZI'), Pauli('YXIIX'), Pauli('YXIIX'), Pauli('-iYXIIX'), Pauli('iYXIIX'), Pauli('iYYIXI'), Pauli('YXIIX'), Pauli('YXZXY'), Pauli('iZXIXZ'), Pauli('YXXYI'), Pauli('YXIIX'), Pauli('IXIYY'), Pauli('YIIYZ'), Pauli('-iXXIZI'), Pauli('YXIIX'), Pauli('-iYZIZY'), Pauli('YXYZZ'), Pauli('YXXYI'), Pauli('YXIIX'), Pauli('YIXIY'), Pauli('IXXIZ'), Pauli('iYXXYI'), Pauli('-iXXXXX'), Pauli('-iYXZXY'), Pauli('-iYZXXZ'), Pauli('YXXYI'), Pauli('YXXYI'), Pauli('YXXYI'), Pauli('YXXYI'), Pauli('-iYXXYI'), Pauli('iYYXZX'), Pauli('iZXXZY'), Pauli('iYXYZZ'), Pauli('-iYZYII'), Pauli('YXIIX'), Pauli('-iXXYIY'), Pauli('YXYZZ'), Pauli('IXYXI'), Pauli('YIYXX'), Pauli('iYXZXY'), Pauli('-iYXYZZ'), Pauli('-iYXXYI'), Pauli('iZXYYX'), Pauli('iYYYYY'), Pauli('iYXYZZ'), Pauli('YXYZZ'), Pauli('-iYXYZZ'), Pauli('iYXYZZ'), Pauli('YXYZZ'), Pauli('iZXZII'), Pauli('YXIIX'), Pauli('YXZXY'), Pauli('iYYZIZ'), Pauli('YXZXY'), Pauli('iYXZXY'), Pauli('YXZXY'), Pauli('-iYXZXY'), Pauli('iYXXYI'), Pauli('-iYZZYX'), Pauli('-iYXZXY'), Pauli('-iXXZYZ'), Pauli('YIZZI'), Pauli('IXZZX'), Pauli('iYXZXY'), Pauli('-iYXYZZ'), Pauli('YYIXI'), Pauli('-iYXIIX'), Pauli('iZYIIY'), Pauli('YYZIZ'), Pauli('YYIXI'), Pauli('YYIXI'), Pauli('YYIXI'), Pauli('YYIXI'), Pauli('-iYYIXI'), Pauli('-iXYIYX'), Pauli('YYYYY'), Pauli('YIIYZ'), Pauli('iYYIXI'), Pauli('YYXZX'), Pauli('iYZIZY'), Pauli('IYIZZ'), Pauli('-iXYXII'), Pauli('YYXZX'), Pauli('YIXIY'), Pauli('-iYYZIZ'), Pauli('YYIXI'), Pauli('-iYYXZX'), Pauli('IYXXY'), Pauli('iYZXXZ'), Pauli('-iYXXYI'), Pauli('iYYXZX'), Pauli('iYYYYY'), Pauli('iZYXYZ'), Pauli('YYXZX'), Pauli('YYXZX'), Pauli('-iYYXZX'), Pauli('iYYXZX'), Pauli('iYZYII'), Pauli('IYYIX'), Pauli('YYYYY'), Pauli('iYYZIZ'), Pauli('YYIXI'), Pauli('YIYXX'), Pauli('iYYYYY'), Pauli('-iXYYXZ'), Pauli('YYYYY'), Pauli('iYYYYY'), Pauli('YYYYY'), Pauli('-iYYYYY'), Pauli('iZYYZI'), Pauli('-iYYXZX'), Pauli('-iYYYYY'), Pauli('-iYXYZZ'), Pauli('YYZIZ'), Pauli('-iYYZIZ'), Pauli('iYYZIZ'), Pauli('YYZIZ'), Pauli('YYIXI'), Pauli('iZYZXX'), Pauli('-iYXZXY'), Pauli('YYZIZ'), Pauli('IYZYI'), Pauli('iYZZYX'), Pauli('-iYYYYY'), Pauli('YYZIZ'), Pauli('YIZZI'), Pauli('iYYXZX'), Pauli('-iXYZZY'), Pauli('YYZIZ'), Pauli('YZYII'), Pauli('iYXIIX'), Pauli('YZIZY'), Pauli('-iXZIIZ'), Pauli('-iYYIXI'), Pauli('IZIXX'), Pauli('-iYZIZY'), Pauli('YZXXZ'), Pauli('iZZIYI'), Pauli('YZZYX'), Pauli('iYZIZY'), Pauli('YIIYZ'), Pauli('YZIZY'), Pauli('iYZIZY'), Pauli('YZIZY'), Pauli('-iYZIZY'), Pauli('iYZYII'), Pauli('iZZXIX'), Pauli('YIXIY'), Pauli('YZXXZ'), Pauli('YZXXZ'), Pauli('-iYZXXZ'), Pauli('iYZXXZ'), Pauli('YZXXZ'), Pauli('iYXXYI'), Pauli('-iYZZYX'), Pauli('-iXZXYY'), Pauli('-iYZXXZ'), Pauli('IZXZI'), Pauli('-iYYXZX'), Pauli('YZIZY'), Pauli('iYZXXZ'), Pauli('YZYII'), Pauli('YZYII'), Pauli('YZYII'), Pauli('YZYII'), Pauli('YZYII'), Pauli('YIYXX'), Pauli('iZZYXY'), Pauli('-iYZXXZ'), Pauli('YZYII'), Pauli('iYZZYX'), Pauli('-iYYYYY'), Pauli('IZYYZ'), Pauli('YZYII'), Pauli('-iXZYZX'), Pauli('YZIZY'), Pauli('iYXYZZ'), Pauli('-iYZYII'), Pauli('YZZYX'), Pauli('IZZIY'), Pauli('-iYYZIZ'), Pauli('-iXZZXI'), Pauli('iYZZYX'), Pauli('iYXZXY'), Pauli('iYZXXZ'), Pauli('YZZYX'), Pauli('YZZYX'), Pauli('-iYZZYX'), Pauli('iYZZYX'), Pauli('YIZZI'), Pauli('-iYZZYX'), Pauli('YZIZY'), Pauli('iZZZZZ'), Pauli('IIIII'), Pauli('ZIIZX'), Pauli('ZYIIY'), Pauli('ZIYIZ'), Pauli('ZIXXI'), Pauli('-iZIIZX'), Pauli('iXIIXY'), Pauli('ZXIXZ'), Pauli('ZZIYI'), Pauli('iZIIZX'), Pauli('ZIZYY'), Pauli('-iYIIYZ'), Pauli('ZIIZX'), Pauli('ZIIZX'), Pauli('-iZIIZX'), Pauli('iZIIZX'), Pauli('ZIXXI'), Pauli('ZZXIX'), Pauli('-iYIXIY'), Pauli('iZIYIZ'), Pauli('ZIXXI'), Pauli('ZIXXI'), Pauli('ZIXXI'), Pauli('ZIXXI'), Pauli('-iZIXXI'), Pauli('IIXYX'), Pauli('-iZIZYY'), Pauli('ZYXYZ'), Pauli('iZIXXI'), Pauli('ZIIZX'), Pauli('ZXXZY'), Pauli('iXIXZZ'), Pauli('ZIYIZ'), Pauli('-iZIYIZ'), Pauli('iZIYIZ'), Pauli('ZIYIZ'), Pauli('-iZIXXI'), Pauli('-iYIYXX'), Pauli('ZZYXY'), Pauli('ZIYIZ'), Pauli('iXIYYI'), Pauli('ZXYYX'), Pauli('iZIZYY'), Pauli('ZIYIZ'), Pauli('ZYYZI'), Pauli('ZIIZX'), Pauli('IIYZY'), Pauli('ZIYIZ'), Pauli('ZXZII'), Pauli('iXIZIX'), Pauli('ZIZYY'), Pauli('-iZIYIZ'), Pauli('iZIXXI'), Pauli('ZYZXX'), Pauli('iZIZYY'), Pauli('IIZXZ'), Pauli('ZIZYY'), Pauli('iZIZYY'), Pauli('ZIZYY'), Pauli('-iZIZYY'), Pauli('-iYIZZI'), Pauli('ZIIZX'), Pauli('-iZIZYY'), Pauli('ZZZZZ'), Pauli('ZXZII'), Pauli('-iYXIIX'), Pauli('iZYIIY'), Pauli('ZXIXZ'), Pauli('ZXIXZ'), Pauli('-iZXIXZ'), Pauli('iZXIXZ'), Pauli('ZXIXZ'), Pauli('-iZZIYI'), Pauli('ZXYYX'), Pauli('IXIYY'), Pauli('-iZXIXZ'), Pauli('iXXIZI'), Pauli('ZIIZX'), Pauli('ZXXZY'), Pauli('iZXIXZ'), Pauli('-iZXZII'), Pauli('-iZZXIX'), Pauli('ZXXZY'), Pauli('IXXIZ'), Pauli('ZIXXI'), Pauli('iXXXXX'), Pauli('-iZXXZY'), Pauli('ZXIXZ'), Pauli('-iYXXYI'), Pauli('iZXYYX'), Pauli('iZXXZY'), Pauli('iZYXYZ'), Pauli('ZXXZY'), Pauli('iZXXZY'), Pauli('ZXXZY'), Pauli('-iZXXZY'), Pauli('iZXZII'), Pauli('ZXYYX'), Pauli('iXXYIY'), Pauli('ZIYIZ'), Pauli('IXYXI'), Pauli('iZXYYX'), Pauli('-iZZYXY'), Pauli('ZXIXZ'), Pauli('ZXYYX'), Pauli('ZXYYX'), Pauli('-iZXYYX'), Pauli('iZXYYX'), Pauli('iZYYZI'), Pauli('-iZXYYX'), Pauli('-iZXXZY'), Pauli('-iYXYZZ'), Pauli('ZXZII'), Pauli('ZXZII'), Pauli('ZXZII'), Pauli('ZXZII'), Pauli('ZXZII'), Pauli('iZYZXX'), Pauli('-iYXZXY'), Pauli('ZXIXZ'), Pauli('ZXZII'), Pauli('-iZXYYX'), Pauli('ZIZYY'), Pauli('iXXZYZ'), Pauli('ZXZII'), Pauli('IXZZX'), Pauli('iZXXZY'), Pauli('-iZZZZZ'), Pauli('ZYIIY'), Pauli('iZYIIY'), Pauli('ZYIIY'), Pauli('-iZYIIY'), Pauli('-iYYIXI'), Pauli('ZYZXX'), Pauli('ZYIIY'), Pauli('-iZXIXZ'), Pauli('iZZIYI'), Pauli('iXYIYX'), Pauli('ZYIIY'), Pauli('ZYXYZ'), Pauli('ZYYZI'), Pauli('ZIIZX'), Pauli('ZYIIY'), Pauli('IYIZZ'), Pauli('iXYXII'), Pauli('iZZXIX'), Pauli('ZYIIY'), Pauli('ZYXYZ'), Pauli('ZIXXI'), Pauli('-iZYZXX'), Pauli('IYXXY'), Pauli('iZYXYZ'), Pauli('ZYXYZ'), Pauli('-iZYXYZ'), Pauli('iZYXYZ'), Pauli('ZYXYZ'), Pauli('iZYYZI'), Pauli('-iYYXZX'), Pauli('-iZXXZY'), Pauli('-iZYXYZ'), Pauli('ZYYZI'), Pauli('IYYIX'), Pauli('ZYIIY'), Pauli('ZIYIZ'), Pauli('-iZYYZI'), Pauli('iZYZXX'), Pauli('iZZYXY'), Pauli('iXYYXZ'), Pauli('iZYYZI'), Pauli('-iZXYYX'), Pauli('-iYYYYY'), Pauli('-iZYXYZ'), Pauli('ZYYZI'), Pauli('ZYYZI'), Pauli('ZYYZI'), Pauli('ZYYZI'), Pauli('-iZXZII'), Pauli('ZYZXX'), Pauli('ZYIIY'), Pauli('-iYYZIZ'), Pauli('ZYZXX'), Pauli('ZYZXX'), Pauli('-iZYZXX'), Pauli('iZYZXX'), Pauli('IYZYI'), Pauli('-iZYZXX'), Pauli('ZIZYY'), Pauli('iZYXYZ'), Pauli('-iZYYZI'), Pauli('iZYZXX'), Pauli('iXYZZY'), Pauli('iZZZZZ'), Pauli('ZZIYI'), Pauli('ZZXIX'), Pauli('-iZYIIY'), Pauli('iXZIIZ'), Pauli('iZZIYI'), Pauli('IZIXX'), Pauli('ZZYXY'), Pauli('iZXIXZ'), Pauli('ZZIYI'), Pauli('ZZIYI'), Pauli('ZZIYI'), Pauli('ZZIYI'), Pauli('-iZZIYI'), Pauli('ZIIZX'), Pauli('-iYZIZY'), Pauli('ZZZZZ'), Pauli('ZZXIX'), Pauli('ZZXIX'), Pauli('-iZZXIX'), Pauli('iZZXIX'), Pauli('ZIXXI'), Pauli('ZZXIX'), Pauli('iZZYXY'), Pauli('-iYZXXZ'), Pauli('ZZIYI'), Pauli('ZZXIX'), Pauli('iXZXYY'), Pauli('-iZYXYZ'), Pauli('IZXZI'), Pauli('ZZXIX'), Pauli('iZXXZY'), Pauli('-iZZZZZ'), Pauli('-iYZYII'), Pauli('-iZZXIX'), Pauli('ZZYXY'), Pauli('ZIYIZ'), Pauli('ZZYXY'), Pauli('iZZYXY'), Pauli('ZZYXY'), Pauli('-iZZYXY'), Pauli('ZZIYI'), Pauli('iZXYYX'), Pauli('-iZZYXY'), Pauli('IZYYZ'), Pauli('-iZYYZI'), Pauli('iXZYZX'), Pauli('iZZYXY'), Pauli('iZZZZZ'), Pauli('iZXZII'), Pauli('iZZXIX'), Pauli('IZZIY'), Pauli('ZZZZZ'), Pauli('iXZZXI'), Pauli('-iZYZXX'), Pauli('-iZZYXY'), Pauli('-iZZZZZ'), Pauli('ZZIYI'), Pauli('-iYZZYX'), Pauli('ZIZYY'), Pauli('iZZZZZ'), Pauli('ZZZZZ'), Pauli('-iZZZZZ'), Pauli('iZZZZZ'), Pauli('ZZZZZ')]\n"
     ]
    }
   ],
   "source": [
    "syndrome_lookup_table={'0000': 'IIIII',\n",
    "                       '0001': 'XIIII',\n",
    "                       '1000': 'IXIII',\n",
    "                       '1100': 'IIXII',\n",
    "                       '0110': 'IIIXI',\n",
    "                       '0011': 'IIIIX',\n",
    "                       '1010': 'ZIIII',\n",
    "                       '0101': 'IZIII',\n",
    "                       '0010': 'IIZII',\n",
    "                       '1001': 'IIIZI',\n",
    "                       '0100': 'IIIIZ',\n",
    "                       '1011': 'YIIII',\n",
    "                       '1101': 'IYIII',\n",
    "                       '1110': 'IIYII',\n",
    "                       '1111': 'IIIYI',\n",
    "                       '0111': 'IIIIY'}\n",
    "\n",
    "errors_5_qubit_corrected = []\n",
    "\n",
    "for i in range(len(errors_5_qubit)):\n",
    "    errors_5_qubit_corrected.append(Pauli(syndrome_lookup_table[error_strings_commutation[i]])@Pauli(errors_5_qubit[i]))\n",
    "    \n",
    "print(errors_5_qubit_corrected)"
   ]
  },
  {
   "cell_type": "markdown",
   "id": "84272a29",
   "metadata": {},
   "source": [
    "#### Determine which errors give an overall non-identity OR non-stabilizer operation even after \"correction\", upto overall phase.\n",
    "#### These should be the logical error scenarios.\n",
    "#### Generate all stabilizers"
   ]
  },
  {
   "cell_type": "code",
   "execution_count": 7,
   "id": "30a10f60",
   "metadata": {},
   "outputs": [
    {
     "name": "stdout",
     "output_type": "stream",
     "text": [
      "340\n",
      "[Pauli('XZZXI'), Pauli('IXZZX'), Pauli('XIXZZ'), Pauli('ZXIXZ'), Pauli('IIIII'), Pauli('XYIYX'), Pauli('IZYYZ'), Pauli('YYZIZ'), Pauli('XYIYX'), Pauli('IIIII'), Pauli('XXYIY'), Pauli('ZIZYY'), Pauli('IZYYZ'), Pauli('XXYIY'), Pauli('IIIII'), Pauli('YXXYI'), Pauli('YYZIZ'), Pauli('ZIZYY'), Pauli('YXXYI'), Pauli('IIIII'), Pauli('XZZXI'), Pauli('IXZZX'), Pauli('XIXZZ'), Pauli('ZXIXZ'), Pauli('IXZZX'), Pauli('XZZXI'), Pauli('IYXXY'), Pauli('YZIZY'), Pauli('XIXZZ'), Pauli('IYXXY'), Pauli('XZZXI'), Pauli('ZYYZI'), Pauli('ZXIXZ'), Pauli('YZIZY'), Pauli('ZYYZI'), Pauli('XZZXI'), Pauli('IXZZX'), Pauli('XZZXI'), Pauli('IYXXY'), Pauli('YZIZY'), Pauli('XZZXI'), Pauli('IXZZX'), Pauli('XIXZZ'), Pauli('ZXIXZ'), Pauli('IYXXY'), Pauli('XIXZZ'), Pauli('IXZZX'), Pauli('YIYXX'), Pauli('YZIZY'), Pauli('ZXIXZ'), Pauli('YIYXX'), Pauli('IXZZX'), Pauli('XIXZZ'), Pauli('IYXXY'), Pauli('XZZXI'), Pauli('ZYYZI'), Pauli('IYXXY'), Pauli('XIXZZ'), Pauli('IXZZX'), Pauli('YIYXX'), Pauli('XZZXI'), Pauli('IXZZX'), Pauli('XIXZZ'), Pauli('ZXIXZ'), Pauli('ZYYZI'), Pauli('YIYXX'), Pauli('ZXIXZ'), Pauli('XIXZZ'), Pauli('ZXIXZ'), Pauli('YZIZY'), Pauli('ZYYZI'), Pauli('XZZXI'), Pauli('YZIZY'), Pauli('ZXIXZ'), Pauli('YIYXX'), Pauli('IXZZX'), Pauli('ZYYZI'), Pauli('YIYXX'), Pauli('ZXIXZ'), Pauli('XIXZZ'), Pauli('XZZXI'), Pauli('IXZZX'), Pauli('XIXZZ'), Pauli('ZXIXZ'), Pauli('IIIII'), Pauli('XYIYX'), Pauli('IZYYZ'), Pauli('YYZIZ'), Pauli('XYIYX'), Pauli('IIIII'), Pauli('XXYIY'), Pauli('ZIZYY'), Pauli('IZYYZ'), Pauli('XXYIY'), Pauli('IIIII'), Pauli('YXXYI'), Pauli('YYZIZ'), Pauli('ZIZYY'), Pauli('YXXYI'), Pauli('IIIII'), Pauli('XYIYX'), Pauli('IIIII'), Pauli('XXYIY'), Pauli('ZIZYY'), Pauli('IIIII'), Pauli('XYIYX'), Pauli('IZYYZ'), Pauli('YYZIZ'), Pauli('XXYIY'), Pauli('IZYYZ'), Pauli('XYIYX'), Pauli('ZZXIX'), Pauli('ZIZYY'), Pauli('YYZIZ'), Pauli('ZZXIX'), Pauli('XYIYX'), Pauli('IZYYZ'), Pauli('XXYIY'), Pauli('IIIII'), Pauli('YXXYI'), Pauli('XXYIY'), Pauli('IZYYZ'), Pauli('XYIYX'), Pauli('ZZXIX'), Pauli('IIIII'), Pauli('XYIYX'), Pauli('IZYYZ'), Pauli('YYZIZ'), Pauli('YXXYI'), Pauli('ZZXIX'), Pauli('YYZIZ'), Pauli('IZYYZ'), Pauli('YYZIZ'), Pauli('ZIZYY'), Pauli('YXXYI'), Pauli('IIIII'), Pauli('ZIZYY'), Pauli('YYZIZ'), Pauli('ZZXIX'), Pauli('XYIYX'), Pauli('YXXYI'), Pauli('ZZXIX'), Pauli('YYZIZ'), Pauli('IZYYZ'), Pauli('IIIII'), Pauli('XYIYX'), Pauli('IZYYZ'), Pauli('YYZIZ'), Pauli('XYIYX'), Pauli('IIIII'), Pauli('XXYIY'), Pauli('ZIZYY'), Pauli('IIIII'), Pauli('XYIYX'), Pauli('IZYYZ'), Pauli('YYZIZ'), Pauli('XXYIY'), Pauli('IZYYZ'), Pauli('XYIYX'), Pauli('ZZXIX'), Pauli('ZIZYY'), Pauli('YYZIZ'), Pauli('ZZXIX'), Pauli('XYIYX'), Pauli('IIIII'), Pauli('XYIYX'), Pauli('IZYYZ'), Pauli('YYZIZ'), Pauli('XYIYX'), Pauli('IIIII'), Pauli('XXYIY'), Pauli('ZIZYY'), Pauli('IZYYZ'), Pauli('XXYIY'), Pauli('IIIII'), Pauli('YXXYI'), Pauli('YYZIZ'), Pauli('ZIZYY'), Pauli('YXXYI'), Pauli('IIIII'), Pauli('XXYIY'), Pauli('IZYYZ'), Pauli('XYIYX'), Pauli('ZZXIX'), Pauli('IZYYZ'), Pauli('XXYIY'), Pauli('IIIII'), Pauli('YXXYI'), Pauli('XYIYX'), Pauli('IIIII'), Pauli('XXYIY'), Pauli('ZIZYY'), Pauli('ZZXIX'), Pauli('YXXYI'), Pauli('ZIZYY'), Pauli('XXYIY'), Pauli('ZIZYY'), Pauli('YYZIZ'), Pauli('ZZXIX'), Pauli('XYIYX'), Pauli('YYZIZ'), Pauli('ZIZYY'), Pauli('YXXYI'), Pauli('IIIII'), Pauli('ZZXIX'), Pauli('YXXYI'), Pauli('ZIZYY'), Pauli('XXYIY'), Pauli('XYIYX'), Pauli('IIIII'), Pauli('XXYIY'), Pauli('ZIZYY'), Pauli('IZYYZ'), Pauli('XXYIY'), Pauli('IIIII'), Pauli('YXXYI'), Pauli('XXYIY'), Pauli('IZYYZ'), Pauli('XYIYX'), Pauli('ZZXIX'), Pauli('IIIII'), Pauli('XYIYX'), Pauli('IZYYZ'), Pauli('YYZIZ'), Pauli('YXXYI'), Pauli('ZZXIX'), Pauli('YYZIZ'), Pauli('IZYYZ'), Pauli('XXYIY'), Pauli('IZYYZ'), Pauli('XYIYX'), Pauli('ZZXIX'), Pauli('IZYYZ'), Pauli('XXYIY'), Pauli('IIIII'), Pauli('YXXYI'), Pauli('XYIYX'), Pauli('IIIII'), Pauli('XXYIY'), Pauli('ZIZYY'), Pauli('ZZXIX'), Pauli('YXXYI'), Pauli('ZIZYY'), Pauli('XXYIY'), Pauli('IIIII'), Pauli('XYIYX'), Pauli('IZYYZ'), Pauli('YYZIZ'), Pauli('XYIYX'), Pauli('IIIII'), Pauli('XXYIY'), Pauli('ZIZYY'), Pauli('IZYYZ'), Pauli('XXYIY'), Pauli('IIIII'), Pauli('YXXYI'), Pauli('YYZIZ'), Pauli('ZIZYY'), Pauli('YXXYI'), Pauli('IIIII'), Pauli('YXXYI'), Pauli('ZZXIX'), Pauli('YYZIZ'), Pauli('IZYYZ'), Pauli('ZZXIX'), Pauli('YXXYI'), Pauli('ZIZYY'), Pauli('XXYIY'), Pauli('YYZIZ'), Pauli('ZIZYY'), Pauli('YXXYI'), Pauli('IIIII'), Pauli('IZYYZ'), Pauli('XXYIY'), Pauli('IIIII'), Pauli('YXXYI'), Pauli('YYZIZ'), Pauli('ZIZYY'), Pauli('YXXYI'), Pauli('IIIII'), Pauli('ZIZYY'), Pauli('YYZIZ'), Pauli('ZZXIX'), Pauli('XYIYX'), Pauli('YXXYI'), Pauli('ZZXIX'), Pauli('YYZIZ'), Pauli('IZYYZ'), Pauli('IIIII'), Pauli('XYIYX'), Pauli('IZYYZ'), Pauli('YYZIZ'), Pauli('ZIZYY'), Pauli('YYZIZ'), Pauli('ZZXIX'), Pauli('XYIYX'), Pauli('YYZIZ'), Pauli('ZIZYY'), Pauli('YXXYI'), Pauli('IIIII'), Pauli('ZZXIX'), Pauli('YXXYI'), Pauli('ZIZYY'), Pauli('XXYIY'), Pauli('XYIYX'), Pauli('IIIII'), Pauli('XXYIY'), Pauli('ZIZYY'), Pauli('YXXYI'), Pauli('ZZXIX'), Pauli('YYZIZ'), Pauli('IZYYZ'), Pauli('ZZXIX'), Pauli('YXXYI'), Pauli('ZIZYY'), Pauli('XXYIY'), Pauli('YYZIZ'), Pauli('ZIZYY'), Pauli('YXXYI'), Pauli('IIIII'), Pauli('IZYYZ'), Pauli('XXYIY'), Pauli('IIIII'), Pauli('YXXYI'), Pauli('IIIII'), Pauli('XYIYX'), Pauli('IZYYZ'), Pauli('YYZIZ'), Pauli('XYIYX'), Pauli('IIIII'), Pauli('XXYIY'), Pauli('ZIZYY'), Pauli('IZYYZ'), Pauli('XXYIY'), Pauli('IIIII'), Pauli('YXXYI'), Pauli('YYZIZ'), Pauli('ZIZYY'), Pauli('YXXYI'), Pauli('IIIII')]\n"
     ]
    }
   ],
   "source": [
    "stab_overcomplete = []\n",
    "\n",
    "for si in stab_gens:\n",
    "    stab_overcomplete.append(Pauli(si))\n",
    "\n",
    "for si in stab_gens:\n",
    "    for sj in stab_gens:\n",
    "        stab_overcomplete.append(Pauli(si)@Pauli(sj))\n",
    "        \n",
    "for si in stab_gens:\n",
    "    for sj in stab_gens:\n",
    "        for sk in stab_gens:\n",
    "            stab_overcomplete.append(Pauli(si)@(Pauli(sj)@Pauli(sk)))\n",
    "            \n",
    "for si in stab_gens:\n",
    "    for sj in stab_gens:\n",
    "        for sk in stab_gens:\n",
    "            for sl in stab_gens:\n",
    "                stab_overcomplete.append(Pauli(si)@(Pauli(sj)@(Pauli(sk)@Pauli(sl))))\n",
    "\n",
    "print(len(stab_overcomplete))\n",
    "print(stab_overcomplete)"
   ]
  },
  {
   "cell_type": "markdown",
   "id": "da85f045",
   "metadata": {},
   "source": [
    "#### Extract unique entries"
   ]
  },
  {
   "cell_type": "code",
   "execution_count": 8,
   "id": "7464e4e3",
   "metadata": {},
   "outputs": [
    {
     "name": "stdout",
     "output_type": "stream",
     "text": [
      "16\n",
      "[Pauli('XZZXI'), Pauli('IXZZX'), Pauli('XIXZZ'), Pauli('ZXIXZ'), Pauli('IIIII'), Pauli('XYIYX'), Pauli('IZYYZ'), Pauli('YYZIZ'), Pauli('XXYIY'), Pauli('ZIZYY'), Pauli('YXXYI'), Pauli('IYXXY'), Pauli('YZIZY'), Pauli('ZYYZI'), Pauli('YIYXX'), Pauli('ZZXIX')]\n"
     ]
    }
   ],
   "source": [
    "stab_full = []\n",
    "for si in stab_overcomplete:\n",
    "    if si not in stab_full:\n",
    "        stab_full.append(si)\n",
    "\n",
    "print(len(stab_full))\n",
    "print(stab_full)"
   ]
  },
  {
   "cell_type": "markdown",
   "id": "6fec2b44",
   "metadata": {},
   "source": [
    "#### Collect those error combinations whose correction will lead to a logical error on an arbitrary encoded state."
   ]
  },
  {
   "cell_type": "code",
   "execution_count": 9,
   "id": "0bbe3207",
   "metadata": {},
   "outputs": [
    {
     "name": "stdout",
     "output_type": "stream",
     "text": [
      "1024\n",
      "768\n",
      "['IIIXX', 'IIIXY', 'IIIXZ', 'IIIYX', 'IIIYY', 'IIIYZ', 'IIIZX', 'IIIZY', 'IIIZZ', 'IIXIX', 'IIXIY', 'IIXIZ', 'IIXXI', 'IIXXX', 'IIXXZ', 'IIXYI', 'IIXYX', 'IIXYY', 'IIXYZ', 'IIXZI', 'IIXZX', 'IIXZY', 'IIYIX', 'IIYIY', 'IIYIZ', 'IIYXI', 'IIYXY', 'IIYXZ', 'IIYYI', 'IIYYX', 'IIYYY', 'IIYZI', 'IIYZX', 'IIYZY', 'IIYZZ', 'IIZIX', 'IIZIY', 'IIZIZ', 'IIZXI', 'IIZXX', 'IIZXY', 'IIZXZ', 'IIZYI', 'IIZYX', 'IIZYZ', 'IIZZI', 'IIZZY', 'IIZZZ', 'IXIIX', 'IXIIY', 'IXIIZ', 'IXIXI', 'IXIXX', 'IXIXY', 'IXIYI', 'IXIYX', 'IXIYY', 'IXIYZ', 'IXIZI', 'IXIZY', 'IXIZZ', 'IXXII', 'IXXIX', 'IXXIY', 'IXXIZ', 'IXXXI', 'IXXXX', 'IXXXZ', 'IXXYX', 'IXXYY', 'IXXYZ', 'IXXZI', 'IXXZY', 'IXXZZ', 'IXYII', 'IXYIX', 'IXYIZ', 'IXYXI', 'IXYXX', 'IXYXY', 'IXYXZ', 'IXYYI', 'IXYYX', 'IXYYY', 'IXYZI', 'IXYZY', 'IXYZZ', 'IXZII', 'IXZIY', 'IXZIZ', 'IXZXI', 'IXZXY', 'IXZXZ', 'IXZYI', 'IXZYY', 'IXZYZ', 'IYIIX', 'IYIIY', 'IYIIZ', 'IYIXI', 'IYIXX', 'IYIXZ', 'IYIYI', 'IYIYY', 'IYIYZ', 'IYIZI', 'IYIZX', 'IYIZY', 'IYIZZ', 'IYXII', 'IYXIX', 'IYXIZ', 'IYXYI', 'IYXYX', 'IYXYZ', 'IYXZI', 'IYXZX', 'IYXZZ', 'IYYII', 'IYYIX', 'IYYIY', 'IYYIZ', 'IYYXI', 'IYYXX', 'IYYXZ', 'IYYYI', 'IYYYX', 'IYYYY', 'IYYZX', 'IYYZY', 'IYYZZ', 'IYZII', 'IYZIX', 'IYZIY', 'IYZXI', 'IYZXX', 'IYZXZ', 'IYZYI', 'IYZYX', 'IYZYY', 'IYZYZ', 'IYZZI', 'IYZZY', 'IYZZZ', 'IZIIX', 'IZIIY', 'IZIIZ', 'IZIXI', 'IZIXX', 'IZIXY', 'IZIXZ', 'IZIYI', 'IZIYX', 'IZIYY', 'IZIZI', 'IZIZX', 'IZIZZ', 'IZXII', 'IZXIY', 'IZXIZ', 'IZXXI', 'IZXXX', 'IZXXZ', 'IZXYI', 'IZXYX', 'IZXYY', 'IZXZI', 'IZXZX', 'IZXZY', 'IZXZZ', 'IZYII', 'IZYIX', 'IZYIY', 'IZYXI', 'IZYXX', 'IZYXY', 'IZYZI', 'IZYZX', 'IZYZY', 'IZZII', 'IZZIX', 'IZZIY', 'IZZIZ', 'IZZXX', 'IZZXY', 'IZZXZ', 'IZZYI', 'IZZYX', 'IZZYY', 'IZZZI', 'IZZZY', 'IZZZZ', 'XIIIX', 'XIIIY', 'XIIIZ', 'XIIXI', 'XIIXX', 'XIIXY', 'XIIXZ', 'XIIYI', 'XIIYY', 'XIIYZ', 'XIIZI', 'XIIZX', 'XIIZY', 'XIXII', 'XIXIX', 'XIXIY', 'XIXXI', 'XIXXX', 'XIXXY', 'XIXYI', 'XIXYX', 'XIXYY', 'XIYII', 'XIYIX', 'XIYIZ', 'XIYXI', 'XIYXY', 'XIYXZ', 'XIYYI', 'XIYYX', 'XIYYY', 'XIYYZ', 'XIYZI', 'XIYZX', 'XIYZY', 'XIZII', 'XIZIX', 'XIZIY', 'XIZIZ', 'XIZXX', 'XIZXY', 'XIZXZ', 'XIZYI', 'XIZYX', 'XIZYZ', 'XIZZI', 'XIZZX', 'XIZZY', 'XXIII', 'XXIIX', 'XXIIZ', 'XXIXI', 'XXIXX', 'XXIXY', 'XXIYI', 'XXIYY', 'XXIYZ', 'XXIZI', 'XXIZX', 'XXIZY', 'XXIZZ', 'XXXII', 'XXXIX', 'XXXIZ', 'XXXXI', 'XXXXX', 'XXXXY', 'XXXXZ', 'XXXYX', 'XXXYY', 'XXXYZ', 'XXXZI', 'XXXZX', 'XXXZY', 'XXYXI', 'XXYXX', 'XXYXZ', 'XXYYI', 'XXYYX', 'XXYYZ', 'XXYZI', 'XXYZX', 'XXYZZ', 'XXZII', 'XXZIX', 'XXZIZ', 'XXZXX', 'XXZXY', 'XXZXZ', 'XXZYI', 'XXZYX', 'XXZYY', 'XXZYZ', 'XXZZI', 'XXZZY', 'XXZZZ', 'XYIII', 'XYIIY', 'XYIIZ', 'XYIXI', 'XYIXY', 'XYIXZ', 'XYIZI', 'XYIZY', 'XYIZZ', 'XYXII', 'XYXIX', 'XYXIY', 'XYXIZ', 'XYXXI', 'XYXXX', 'XYXXZ', 'XYXYI', 'XYXYY', 'XYXYZ', 'XYXZI', 'XYXZX', 'XYXZY', 'XYYII', 'XYYIX', 'XYYIZ', 'XYYXI', 'XYYXX', 'XYYXY', 'XYYXZ', 'XYYYI', 'XYYYY', 'XYYYZ', 'XYYZX', 'XYYZY', 'XYYZZ', 'XYZII', 'XYZIX', 'XYZIY', 'XYZXX', 'XYZXY', 'XYZXZ', 'XYZYI', 'XYZYY', 'XYZYZ', 'XYZZI', 'XYZZX', 'XYZZY', 'XYZZZ', 'XZIII', 'XZIIX', 'XZIIY', 'XZIIZ', 'XZIXX', 'XZIXY', 'XZIXZ', 'XZIYI', 'XZIYY', 'XZIYZ', 'XZIZI', 'XZIZX', 'XZIZZ', 'XZXII', 'XZXIY', 'XZXIZ', 'XZXXX', 'XZXXY', 'XZXXZ', 'XZXYI', 'XZXYX', 'XZXYY', 'XZXYZ', 'XZXZI', 'XZXZX', 'XZXZY', 'XZYII', 'XZYIX', 'XZYIZ', 'XZYXX', 'XZYXY', 'XZYXZ', 'XZYYI', 'XZYYX', 'XZYYY', 'XZYZI', 'XZYZX', 'XZYZY', 'XZYZZ', 'XZZIX', 'XZZIY', 'XZZIZ', 'XZZYX', 'XZZYY', 'XZZYZ', 'XZZZX', 'XZZZY', 'XZZZZ', 'YIIIX', 'YIIIY', 'YIIIZ', 'YIIXI', 'YIIXY', 'YIIXZ', 'YIIYI', 'YIIYX', 'YIIYY', 'YIIYZ', 'YIIZI', 'YIIZX', 'YIIZZ', 'YIXII', 'YIXIX', 'YIXIY', 'YIXIZ', 'YIXXI', 'YIXXY', 'YIXXZ', 'YIXYX', 'YIXYY', 'YIXYZ', 'YIXZI', 'YIXZX', 'YIXZY', 'YIYII', 'YIYIY', 'YIYIZ', 'YIYYI', 'YIYYY', 'YIYYZ', 'YIYZI', 'YIYZY', 'YIYZZ', 'YIZII', 'YIZIX', 'YIZIY', 'YIZXI', 'YIZXY', 'YIZXZ', 'YIZYI', 'YIZYX', 'YIZYZ', 'YIZZI', 'YIZZX', 'YIZZY', 'YIZZZ', 'YXIII', 'YXIIX', 'YXIIY', 'YXIIZ', 'YXIXI', 'YXIXX', 'YXIXY', 'YXIYX', 'YXIYY', 'YXIYZ', 'YXIZI', 'YXIZX', 'YXIZZ', 'YXXIX', 'YXXIY', 'YXXIZ', 'YXXXX', 'YXXXY', 'YXXXZ', 'YXXZX', 'YXXZY', 'YXXZZ', 'YXYII', 'YXYIX', 'YXYIZ', 'YXYXI', 'YXYXY', 'YXYXZ', 'YXYYX', 'YXYYY', 'YXYYZ', 'YXYZI', 'YXYZX', 'YXYZY', 'YXYZZ', 'YXZII', 'YXZIX', 'YXZIY', 'YXZXI', 'YXZXX', 'YXZXY', 'YXZXZ', 'YXZYX', 'YXZYY', 'YXZYZ', 'YXZZI', 'YXZZY', 'YXZZZ', 'YYIII', 'YYIIX', 'YYIIY', 'YYIXI', 'YYIXX', 'YYIXY', 'YYIXZ', 'YYIYI', 'YYIYY', 'YYIYZ', 'YYIZI', 'YYIZX', 'YYIZZ', 'YYXII', 'YYXIX', 'YYXIY', 'YYXXI', 'YYXXX', 'YYXXZ', 'YYXYX', 'YYXYY', 'YYXYZ', 'YYXZI', 'YYXZX', 'YYXZY', 'YYXZZ', 'YYYII', 'YYYIX', 'YYYIY', 'YYYXI', 'YYYXY', 'YYYXZ', 'YYYYI', 'YYYYX', 'YYYYY', 'YYYYZ', 'YYYZX', 'YYYZY', 'YYYZZ', 'YYZXI', 'YYZXX', 'YYZXY', 'YYZYI', 'YYZYX', 'YYZYY', 'YYZZI', 'YYZZX', 'YYZZY', 'YZIII', 'YZIIX', 'YZIIZ', 'YZIXI', 'YZIXX', 'YZIXZ', 'YZIYI', 'YZIYX', 'YZIYZ', 'YZXII', 'YZXIY', 'YZXIZ', 'YZXXI', 'YZXXX', 'YZXXY', 'YZXXZ', 'YZXYX', 'YZXYY', 'YZXYZ', 'YZXZI', 'YZXZX', 'YZXZZ', 'YZYII', 'YZYIX', 'YZYIY', 'YZYIZ', 'YZYXI', 'YZYXY', 'YZYXZ', 'YZYYI', 'YZYYX', 'YZYYY', 'YZYZI', 'YZYZX', 'YZYZZ', 'YZZII', 'YZZIX', 'YZZIY', 'YZZXX', 'YZZXY', 'YZZXZ', 'YZZYI', 'YZZYX', 'YZZYY', 'YZZYZ', 'YZZZI', 'YZZZX', 'YZZZZ', 'ZIIIX', 'ZIIIY', 'ZIIIZ', 'ZIIXI', 'ZIIXX', 'ZIIXY', 'ZIIYI', 'ZIIYX', 'ZIIYZ', 'ZIIZI', 'ZIIZX', 'ZIIZY', 'ZIIZZ', 'ZIXII', 'ZIXIY', 'ZIXIZ', 'ZIXXI', 'ZIXXX', 'ZIXXY', 'ZIXXZ', 'ZIXYI', 'ZIXYX', 'ZIXYZ', 'ZIXZI', 'ZIXZX', 'ZIXZY', 'ZIYII', 'ZIYIX', 'ZIYIY', 'ZIYIZ', 'ZIYXI', 'ZIYXY', 'ZIYXZ', 'ZIYYI', 'ZIYYX', 'ZIYYZ', 'ZIYZX', 'ZIYZY', 'ZIYZZ', 'ZIZII', 'ZIZIX', 'ZIZIZ', 'ZIZXI', 'ZIZXX', 'ZIZXZ', 'ZIZZI', 'ZIZZX', 'ZIZZZ', 'ZXIII', 'ZXIIX', 'ZXIIY', 'ZXIYI', 'ZXIYX', 'ZXIYY', 'ZXIZI', 'ZXIZX', 'ZXIZY', 'ZXXII', 'ZXXIY', 'ZXXIZ', 'ZXXXI', 'ZXXXX', 'ZXXXY', 'ZXXYX', 'ZXXYY', 'ZXXYZ', 'ZXXZI', 'ZXXZX', 'ZXXZY', 'ZXXZZ', 'ZXYII', 'ZXYIX', 'ZXYIZ', 'ZXYXI', 'ZXYXX', 'ZXYXY', 'ZXYYI', 'ZXYYX', 'ZXYYY', 'ZXYYZ', 'ZXYZX', 'ZXYZY', 'ZXYZZ', 'ZXZII', 'ZXZIX', 'ZXZIY', 'ZXZIZ', 'ZXZXI', 'ZXZXX', 'ZXZXY', 'ZXZYI', 'ZXZYX', 'ZXZYZ', 'ZXZZI', 'ZXZZY', 'ZXZZZ', 'ZYIII', 'ZYIIX', 'ZYIIY', 'ZYIIZ', 'ZYIXI', 'ZYIXX', 'ZYIXY', 'ZYIYI', 'ZYIYY', 'ZYIYZ', 'ZYIZX', 'ZYIZY', 'ZYIZZ', 'ZYXII', 'ZYXIY', 'ZYXIZ', 'ZYXXI', 'ZYXXX', 'ZYXXZ', 'ZYXYI', 'ZYXYX', 'ZYXYY', 'ZYXYZ', 'ZYXZX', 'ZYXZY', 'ZYXZZ', 'ZYYIX', 'ZYYIY', 'ZYYIZ', 'ZYYXX', 'ZYYXY', 'ZYYXZ', 'ZYYYX', 'ZYYYY', 'ZYYYZ', 'ZYZII', 'ZYZIX', 'ZYZIY', 'ZYZXI', 'ZYZXX', 'ZYZXY', 'ZYZXZ', 'ZYZYI', 'ZYZYX', 'ZYZYZ', 'ZYZZX', 'ZYZZY', 'ZYZZZ', 'ZZIII', 'ZZIIY', 'ZZIIZ', 'ZZIXI', 'ZZIXX', 'ZZIXY', 'ZZIYI', 'ZZIYX', 'ZZIYY', 'ZZIYZ', 'ZZIZI', 'ZZIZX', 'ZZIZZ', 'ZZXXI', 'ZZXXY', 'ZZXXZ', 'ZZXYI', 'ZZXYY', 'ZZXYZ', 'ZZXZI', 'ZZXZY', 'ZZXZZ', 'ZZYII', 'ZZYIY', 'ZZYIZ', 'ZZYXI', 'ZZYXX', 'ZZYXY', 'ZZYXZ', 'ZZYYI', 'ZZYYX', 'ZZYYY', 'ZZYZX', 'ZZYZY', 'ZZYZZ', 'ZZZII', 'ZZZIY', 'ZZZIZ', 'ZZZXX', 'ZZZXY', 'ZZZXZ', 'ZZZYI', 'ZZZYX', 'ZZZYZ', 'ZZZZI', 'ZZZZX', 'ZZZZY', 'ZZZZZ']\n"
     ]
    }
   ],
   "source": [
    "logical_error_indicator = []\n",
    "\n",
    "for j in range(len(errors_5_qubit_corrected)):\n",
    "    if(any([errors_5_qubit_corrected[j].equiv(i) for i in stab_full])):\n",
    "        logical_error_indicator.append(False)\n",
    "    else:\n",
    "        logical_error_indicator.append(True)\n",
    "\n",
    "print(len(logical_error_indicator))\n",
    "\n",
    "logical_errors = []\n",
    "for j in range(len(errors_5_qubit)):\n",
    "    if(logical_error_indicator[j]):\n",
    "        logical_errors.append(errors_5_qubit[j])\n",
    "\n",
    "print(len(logical_errors))\n",
    "print(logical_errors)"
   ]
  },
  {
   "cell_type": "markdown",
   "id": "d6c6a409",
   "metadata": {},
   "source": [
    "#### Calculate their weights"
   ]
  },
  {
   "cell_type": "code",
   "execution_count": 10,
   "id": "a6d141c6",
   "metadata": {},
   "outputs": [
    {
     "name": "stdout",
     "output_type": "stream",
     "text": [
      "[2, 2, 2, 2, 2, 2, 2, 2, 2, 2, 2, 2, 2, 3, 3, 2, 3, 3, 3, 2, 3, 3, 2, 2, 2, 2, 3, 3, 2, 3, 3, 2, 3, 3, 3, 2, 2, 2, 2, 3, 3, 3, 2, 3, 3, 2, 3, 3, 2, 2, 2, 2, 3, 3, 2, 3, 3, 3, 2, 3, 3, 2, 3, 3, 3, 3, 4, 4, 4, 4, 4, 3, 4, 4, 2, 3, 3, 3, 4, 4, 4, 3, 4, 4, 3, 4, 4, 2, 3, 3, 3, 4, 4, 3, 4, 4, 2, 2, 2, 2, 3, 3, 2, 3, 3, 2, 3, 3, 3, 2, 3, 3, 3, 4, 4, 3, 4, 4, 2, 3, 3, 3, 3, 4, 4, 3, 4, 4, 4, 4, 4, 2, 3, 3, 3, 4, 4, 3, 4, 4, 4, 3, 4, 4, 2, 2, 2, 2, 3, 3, 3, 2, 3, 3, 2, 3, 3, 2, 3, 3, 3, 4, 4, 3, 4, 4, 3, 4, 4, 4, 2, 3, 3, 3, 4, 4, 3, 4, 4, 2, 3, 3, 3, 4, 4, 4, 3, 4, 4, 3, 4, 4, 2, 2, 2, 2, 3, 3, 3, 2, 3, 3, 2, 3, 3, 2, 3, 3, 3, 4, 4, 3, 4, 4, 2, 3, 3, 3, 4, 4, 3, 4, 4, 4, 3, 4, 4, 2, 3, 3, 3, 4, 4, 4, 3, 4, 4, 3, 4, 4, 2, 3, 3, 3, 4, 4, 3, 4, 4, 3, 4, 4, 4, 3, 4, 4, 4, 5, 5, 5, 5, 5, 5, 4, 5, 5, 4, 5, 5, 4, 5, 5, 4, 5, 5, 3, 4, 4, 5, 5, 5, 4, 5, 5, 5, 4, 5, 5, 2, 3, 3, 3, 4, 4, 3, 4, 4, 3, 4, 4, 4, 4, 5, 5, 4, 5, 5, 4, 5, 5, 3, 4, 4, 4, 5, 5, 5, 4, 5, 5, 5, 5, 5, 3, 4, 4, 5, 5, 5, 4, 5, 5, 4, 5, 5, 5, 2, 3, 3, 3, 4, 4, 4, 3, 4, 4, 3, 4, 4, 3, 4, 4, 5, 5, 5, 4, 5, 5, 5, 4, 5, 5, 3, 4, 4, 5, 5, 5, 4, 5, 5, 4, 5, 5, 5, 4, 4, 4, 5, 5, 5, 5, 5, 5, 2, 2, 2, 2, 3, 3, 2, 3, 3, 3, 2, 3, 3, 2, 3, 3, 3, 3, 4, 4, 4, 4, 4, 3, 4, 4, 2, 3, 3, 3, 4, 4, 3, 4, 4, 2, 3, 3, 3, 4, 4, 3, 4, 4, 3, 4, 4, 4, 2, 3, 3, 3, 3, 4, 4, 4, 4, 4, 3, 4, 4, 4, 4, 4, 5, 5, 5, 5, 5, 5, 3, 4, 4, 4, 5, 5, 5, 5, 5, 4, 5, 5, 5, 3, 4, 4, 4, 5, 5, 5, 5, 5, 5, 4, 5, 5, 2, 3, 3, 3, 4, 4, 4, 3, 4, 4, 3, 4, 4, 3, 4, 4, 4, 5, 5, 5, 5, 5, 4, 5, 5, 5, 3, 4, 4, 4, 5, 5, 4, 5, 5, 5, 5, 5, 5, 4, 5, 5, 4, 5, 5, 4, 5, 5, 2, 3, 3, 3, 4, 4, 3, 4, 4, 3, 4, 4, 4, 5, 5, 5, 5, 5, 5, 4, 5, 5, 3, 4, 4, 4, 4, 5, 5, 4, 5, 5, 4, 5, 5, 3, 4, 4, 5, 5, 5, 4, 5, 5, 5, 4, 5, 5, 2, 2, 2, 2, 3, 3, 2, 3, 3, 2, 3, 3, 3, 2, 3, 3, 3, 4, 4, 4, 3, 4, 4, 3, 4, 4, 2, 3, 3, 3, 3, 4, 4, 3, 4, 4, 4, 4, 4, 2, 3, 3, 3, 4, 4, 3, 4, 4, 2, 3, 3, 3, 4, 4, 3, 4, 4, 3, 4, 4, 4, 5, 5, 5, 5, 5, 4, 5, 5, 5, 3, 4, 4, 4, 5, 5, 4, 5, 5, 5, 5, 5, 5, 3, 4, 4, 4, 4, 5, 5, 4, 5, 5, 4, 5, 5, 2, 3, 3, 3, 3, 4, 4, 3, 4, 4, 4, 4, 4, 3, 4, 4, 4, 5, 5, 4, 5, 5, 5, 5, 5, 5, 4, 4, 4, 5, 5, 5, 5, 5, 5, 3, 4, 4, 4, 5, 5, 5, 4, 5, 5, 5, 5, 5, 2, 3, 3, 3, 4, 4, 3, 4, 4, 4, 3, 4, 4, 4, 5, 5, 4, 5, 5, 4, 5, 5, 3, 4, 4, 4, 5, 5, 5, 4, 5, 5, 5, 5, 5, 3, 4, 4, 5, 5, 5, 4, 5, 5, 4, 5, 5, 5]\n"
     ]
    }
   ],
   "source": [
    "error_weights = []\n",
    "for e in logical_errors:\n",
    "    wt = 0\n",
    "    for j in e:\n",
    "        if j != 'I':\n",
    "            wt += 1\n",
    "            \n",
    "    error_weights.append(wt)\n",
    "print(error_weights)"
   ]
  },
  {
   "cell_type": "markdown",
   "id": "e80e4e24",
   "metadata": {},
   "source": [
    "#### Count the number of elements of given weight."
   ]
  },
  {
   "cell_type": "code",
   "execution_count": 11,
   "id": "84d3ff6b",
   "metadata": {},
   "outputs": [
    {
     "data": {
      "text/plain": [
       "{2: 90, 3: 210, 4: 270, 5: 198}"
      ]
     },
     "execution_count": 11,
     "metadata": {},
     "output_type": "execute_result"
    }
   ],
   "source": [
    "error_weight_counts = {ew:error_weights.count(ew) for ew in error_weights}\n",
    "error_weight_counts"
   ]
  },
  {
   "cell_type": "markdown",
   "id": "c1009eb7",
   "metadata": {},
   "source": [
    "#### Multiply these counts with probability of occurence of error of that weight to get the logical error scaling plot."
   ]
  },
  {
   "cell_type": "code",
   "execution_count": 12,
   "id": "afd46883",
   "metadata": {},
   "outputs": [
    {
     "data": {
      "image/png": "[encoded data removed]",
      "text/plain": [
       "<Figure size 432x288 with 1 Axes>"
      ]
     },
     "metadata": {
      "needs_background": "light"
     },
     "output_type": "display_data"
    }
   ],
   "source": [
    "p = np.linspace(0,1,31)\n",
    "\n",
    "logical_error_rate = error_weight_counts[2]*((p/3)**2)*((1-p)**3) + error_weight_counts[3]*((p/3)**3)*((1-p)**2) + error_weight_counts[4]*((p/3)**4)*((1-p)**1) + error_weight_counts[5]*((p/3)**5)\n",
    "\n",
    "plt.plot(p, p, 'r')\n",
    "plt.plot(p, logical_error_rate, 'blue')\n",
    "\n",
    "plt.xlabel('Physical error rate')\n",
    "plt.ylabel('Logical error rate vs Physical error rate')\n",
    "\n",
    "plt.legend(['Physical error rate','Logical error rate (theoretical)'])\n",
    "plt.title('[5,1,3] code, full code capacity noise')\n",
    "\n",
    "plt.show()"
   ]
  },
  {
   "cell_type": "markdown",
   "id": "b33baa21",
   "metadata": {},
   "source": [
    "#### This seems to agree with another simulation of the [5,1,3] carried out independently using qecsim package."
   ]
  }
 ],
 "metadata": {
  "kernelspec": {
   "display_name": "Python 3 (ipykernel)",
   "language": "python",
   "name": "python3"
  },
  "language_info": {
   "codemirror_mode": {
    "name": "ipython",
    "version": 3
   },
   "file_extension": ".py",
   "mimetype": "text/x-python",
   "name": "python",
   "nbconvert_exporter": "python",
   "pygments_lexer": "ipython3",
   "version": "3.9.12"
  }
 },
 "nbformat": 4,
 "nbformat_minor": 5
}
